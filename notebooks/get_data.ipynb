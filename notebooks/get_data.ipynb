{
 "cells": [
  {
   "cell_type": "code",
   "execution_count": 106,
   "metadata": {},
   "outputs": [],
   "source": [
    "import requests\n",
    "import pandas as pd\n",
    "import time"
   ]
  },
  {
   "cell_type": "code",
   "execution_count": 107,
   "metadata": {},
   "outputs": [],
   "source": [
    "pokemon_name_api_url = 'https://pokeapi.co/api/v2/pokemon/?limit=1500'\n",
    "pokemon_names = requests.get(pokemon_name_api_url).json()['results']"
   ]
  },
  {
   "cell_type": "code",
   "execution_count": 108,
   "metadata": {},
   "outputs": [],
   "source": [
    "for pokemon in pokemon_names:\n",
    "    pokemon_data = requests.get(pokemon['url']).json()\n",
    "    pokemon['base_experience'] = pokemon_data['base_experience']\n",
    "    pokemon['height'] = pokemon_data['height']\n",
    "    pokemon['id'] = pokemon_data['id']\n",
    "    pokemon['image_url'] = pokemon_data['sprites']['front_default']\n",
    "    pokemon['weight'] = pokemon_data['weight']\n",
    "\n",
    "    for s in pokemon_data['stats']:\n",
    "        pokemon[f'stat_{s[\"stat\"][\"name\"]}'] =s['base_stat']\n",
    "    for a in pokemon_data['abilities']:\n",
    "        pokemon[f'ability_{pokemon_data[\"abilities\"].index(a)}_id'] = a['ability']['url'].split('/')[-2]\n",
    "        pokemon[f'ability_{pokemon_data[\"abilities\"].index(a)}']=a[\"ability\"]['name']\n",
    "    for t in pokemon_data['types']:\n",
    "        pokemon[f'type_{pokemon_data[\"types\"].index(t)}_id']  = t['type']['url'].split('/')[-2]\n",
    "        pokemon[f'type_{pokemon_data[\"types\"].index(t)}'] =t['type']['name']\n",
    "\n"
   ]
  },
  {
   "cell_type": "code",
   "execution_count": null,
   "metadata": {},
   "outputs": [],
   "source": [
    "pokemon_df = pd.DataFrame(pokemon_names)"
   ]
  },
  {
   "cell_type": "code",
   "execution_count": null,
   "metadata": {},
   "outputs": [],
   "source": [
    "pokemon_df.to_csv('pokemon.csv', index=False)"
   ]
  }
 ],
 "metadata": {
  "kernelspec": {
   "display_name": ".venv",
   "language": "python",
   "name": "python3"
  },
  "language_info": {
   "codemirror_mode": {
    "name": "ipython",
    "version": 3
   },
   "file_extension": ".py",
   "mimetype": "text/x-python",
   "name": "python",
   "nbconvert_exporter": "python",
   "pygments_lexer": "ipython3",
   "version": "3.11.6"
  }
 },
 "nbformat": 4,
 "nbformat_minor": 2
}
